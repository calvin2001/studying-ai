{
 "cells": [
  {
   "cell_type": "code",
   "execution_count": null,
   "id": "61d3d727-4ac3-488f-8d19-701d4bcc7634",
   "metadata": {},
   "outputs": [],
   "source": []
  }
 ],
 "metadata": {
  "kernelspec": {
   "display_name": "",
   "name": ""
  },
  "language_info": {
   "name": ""
  }
 },
 "nbformat": 4,
 "nbformat_minor": 5
}
