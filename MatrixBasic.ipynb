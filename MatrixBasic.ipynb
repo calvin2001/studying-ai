{
 "cells": [
  {
   "cell_type": "code",
   "execution_count": 1,
   "id": "61d3d727-4ac3-488f-8d19-701d4bcc7634",
   "metadata": {},
   "outputs": [
    {
     "name": "stdout",
     "output_type": "stream",
     "text": [
      "원본 행렬 A:\n",
      " [[1 2]\n",
      " [3 4]\n",
      " [5 6]]\n"
     ]
    }
   ],
   "source": [
    "import numpy as np\n",
    "\n",
    "A = np.array([[1, 2],\n",
    "              [3, 4],\n",
    "              [5, 6]])\n",
    "print(\"원본 행렬 A:\\n\", A)\n"
   ]
  },
  {
   "cell_type": "code",
   "execution_count": 2,
   "id": "d470c9be-2c1e-4c51-a225-42aa4dfb293e",
   "metadata": {},
   "outputs": [
    {
     "name": "stdout",
     "output_type": "stream",
     "text": [
      "전치된 행렬 A_T:\n",
      " [[1 3 5]\n",
      " [2 4 6]]\n"
     ]
    }
   ],
   "source": [
    "A_T = A.T\n",
    "print(\"전치된 행렬 A_T:\\n\", A_T)\n"
   ]
  },
  {
   "cell_type": "code",
   "execution_count": 3,
   "id": "45352dcf-0341-4fcf-bc12-0d38e3af1149",
   "metadata": {},
   "outputs": [
    {
     "name": "stdout",
     "output_type": "stream",
     "text": [
      "A와 B의 행렬 곱 결과:\n",
      " [[1 2]\n",
      " [3 4]\n",
      " [5 6]]\n"
     ]
    }
   ],
   "source": [
    "B = np.array([[1, 0],\n",
    "              [0, 1]])\n",
    "\n",
    "C = A @ B\n",
    "print(\"A와 B의 행렬 곱 결과:\\n\", C)\n"
   ]
  },
  {
   "cell_type": "code",
   "execution_count": 4,
   "id": "b61ba93f-05de-4ac8-9d30-441bc4d85716",
   "metadata": {},
   "outputs": [
    {
     "name": "stdout",
     "output_type": "stream",
     "text": [
      "A.T @ A:\n",
      " [[35 44]\n",
      " [44 56]]\n",
      "A @ A.T:\n",
      " [[ 5 11 17]\n",
      " [11 25 39]\n",
      " [17 39 61]]\n"
     ]
    }
   ],
   "source": [
    "print(\"A.T @ A:\\n\", A.T @ A)\n",
    "print(\"A @ A.T:\\n\", A @ A.T)\n"
   ]
  },
  {
   "cell_type": "code",
   "execution_count": null,
   "id": "b04694aa-d79f-4ca4-88c2-93cb8413181e",
   "metadata": {},
   "outputs": [],
   "source": []
  }
 ],
 "metadata": {
  "kernelspec": {
   "display_name": "Python [conda env:base] *",
   "language": "python",
   "name": "conda-base-py"
  },
  "language_info": {
   "codemirror_mode": {
    "name": "ipython",
    "version": 3
   },
   "file_extension": ".py",
   "mimetype": "text/x-python",
   "name": "python",
   "nbconvert_exporter": "python",
   "pygments_lexer": "ipython3",
   "version": "3.13.5"
  }
 },
 "nbformat": 4,
 "nbformat_minor": 5
}
