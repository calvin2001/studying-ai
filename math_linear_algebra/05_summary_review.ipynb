{
 "cells": [
  {
   "cell_type": "code",
   "execution_count": null,
   "id": "6b94866a-c8f5-4813-8c53-91f0335e0141",
   "metadata": {},
   "outputs": [],
   "source": [
    "# 1주차 수학 복습 요약\n",
    "\n",
    "## 1. 벡터\n",
    "- 정의, 시각화, 덧셈, 스칼라 곱\n",
    "\n",
    "## 2. 행렬\n",
    "- 전치, 곱셈, 단위행렬\n",
    "\n",
    "## 3. 선형변환\n",
    "- 단위벡터 기저의 변형\n",
    "\n",
    "## 4. 내적과 직교성\n",
    "- np.dot() 계산 예시, 시각화\n",
    "\n",
    "## 실습 코드 포함\n"
   ]
  }
 ],
 "metadata": {
  "kernelspec": {
   "display_name": "Python [conda env:base] *",
   "language": "python",
   "name": "conda-base-py"
  },
  "language_info": {
   "codemirror_mode": {
    "name": "ipython",
    "version": 3
   },
   "file_extension": ".py",
   "mimetype": "text/x-python",
   "name": "python",
   "nbconvert_exporter": "python",
   "pygments_lexer": "ipython3",
   "version": "3.13.5"
  }
 },
 "nbformat": 4,
 "nbformat_minor": 5
}
