{
 "cells": [
  {
   "cell_type": "code",
   "execution_count": 1,
   "id": "0c2cabb0-7007-41b5-a39e-ac82cfcd48e2",
   "metadata": {},
   "outputs": [
    {
     "name": "stdout",
     "output_type": "stream",
     "text": [
      "백터 덧셈: [3 4] + [1 2] = [4 6]\n",
      "백터 v1의 크기: 5.0\n",
      "내적: 11\n"
     ]
    }
   ],
   "source": [
    "import numpy as np\n",
    "import matplotlib as plt\n",
    "\n",
    "# 백터 생성과 연산\n",
    "v1 = np.array([3, 4])\n",
    "v2 = np.array([1, 2])\n",
    "\n",
    "# 백터 덧셈\n",
    "v_add = v1 + v2\n",
    "print(f\"백터 덧셈: {v1} + {v2} = {v_add}\")\n",
    "\n",
    "# 백터 크기 (magnitude)\n",
    "magnitude = np.linalg.norm(v1)\n",
    "print(f\"백터 v1의 크기: {magnitude}\")\n",
    "\n",
    "# 내적 (dot product)\n",
    "dot_product = np.dot(v1, v2)\n",
    "print(f\"내적: {dot_product}\")"
   ]
  },
  {
   "cell_type": "code",
   "execution_count": 2,
   "id": "5c2e8e5f-f097-4373-a7ec-bf1857dfb7f0",
   "metadata": {},
   "outputs": [
    {
     "name": "stdout",
     "output_type": "stream",
     "text": [
      "행렬 곱셈:\n",
      "[[19 22]\n",
      " [43 50]]\n",
      "A의 역행렬:\n",
      "[[-2.   1. ]\n",
      " [ 1.5 -0.5]]\n",
      "A의 행렬식: -2.0000000000000004\n"
     ]
    }
   ],
   "source": [
    "# 행렬 생성\n",
    "A = np.array([[1,2], [3,4]])\n",
    "B = np.array([[5,6], [7,8]])\n",
    "\n",
    "# 행렬 곱셈\n",
    "C = np.dot(A, B)\n",
    "print(f\"행렬 곱셈:\\n{C}\")\n",
    "\n",
    "# 역행렬\n",
    "A_inv = np.linalg.inv(A)\n",
    "print(f\"A의 역행렬:\\n{A_inv}\")\n",
    "\n",
    "# 행렬식\n",
    "det_A = np.linalg.det(A)\n",
    "print(f\"A의 행렬식: {det_A}\")"
   ]
  },
  {
   "cell_type": "code",
   "execution_count": null,
   "id": "cdab8375-7b02-449c-82ea-cfbbffa6af13",
   "metadata": {},
   "outputs": [],
   "source": []
  }
 ],
 "metadata": {
  "kernelspec": {
   "display_name": "Python [conda env:base] *",
   "language": "python",
   "name": "conda-base-py"
  },
  "language_info": {
   "codemirror_mode": {
    "name": "ipython",
    "version": 3
   },
   "file_extension": ".py",
   "mimetype": "text/x-python",
   "name": "python",
   "nbconvert_exporter": "python",
   "pygments_lexer": "ipython3",
   "version": "3.13.5"
  }
 },
 "nbformat": 4,
 "nbformat_minor": 5
}
