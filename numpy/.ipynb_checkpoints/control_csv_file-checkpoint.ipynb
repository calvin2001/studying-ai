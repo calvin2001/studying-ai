{
 "cells": [
  {
   "cell_type": "code",
   "execution_count": 3,
   "id": "3e9ceb59-8bec-4f20-bfac-f129f6ba8a48",
   "metadata": {},
   "outputs": [
    {
     "name": "stdout",
     "output_type": "stream",
     "text": [
      "📊 판매 데이터 미리보기:\n",
      "         date product  sales    price\n",
      "0  2024-01-01     노트북     16   750270\n",
      "1  2024-01-02     노트북     18  1408041\n",
      "2  2024-01-03     키보드     38    63502\n",
      "3  2024-01-04     키보드     71  1102199\n",
      "4  2024-01-05     마우스     70  1458797\n",
      "\n",
      "📈 기본 통계:\n",
      "            sales         price\n",
      "count  100.000000  1.000000e+02\n",
      "mean    56.360000  7.602051e+05\n",
      "std     24.408775  3.730422e+05\n",
      "min     10.000000  6.350200e+04\n",
      "25%     37.250000  4.935752e+05\n",
      "50%     61.500000  7.523915e+05\n",
      "75%     73.000000  1.029708e+06\n",
      "max     99.000000  1.487602e+06\n"
     ]
    }
   ],
   "source": [
    "import pandas as pd\n",
    "import numpy as np\n",
    "\n",
    "sales_data = pd.DataFrame({\n",
    "    'date': pd.date_range('2024-01-01', periods=100, freq='D'),\n",
    "    'product': np.random.choice(['노트북', '마우스', '키보드'], 100),\n",
    "    'sales': np.random.randint(10, 100, 100),\n",
    "    'price': np.random.randint(50000, 1500000, 100)\n",
    "})\n",
    "\n",
    "sales_data.to_csv('sales_data.csv', index=False, encoding='utf-8')\n",
    "df_sales = pd.read_csv('sales_data.csv')\n",
    "\n",
    "print(\"📊 판매 데이터 미리보기:\")\n",
    "print(df_sales.head())\n",
    "print()\n",
    "print(\"📈 기본 통계:\")\n",
    "print(df_sales.describe())"
   ]
  },
  {
   "cell_type": "code",
   "execution_count": 8,
   "id": "55a676ce-677d-45b9-bc68-a2b1db98824e",
   "metadata": {},
   "outputs": [
    {
     "name": "stdout",
     "output_type": "stream",
     "text": [
      "제품별 판매 분석\n",
      "        sales                   price\n",
      "          sum   mean count       mean\n",
      "product                              \n",
      "노트북      2302  59.03    39  681756.87\n",
      "마우스      1414  54.38    26  763198.85\n",
      "키보드      1920  54.86    35  845394.77\n",
      "\n",
      "월별 총 매출\n",
      "month\n",
      "1    1453791887\n",
      "2    1319758322\n",
      "3    1075881018\n",
      "4     363925244\n",
      "Name: revenue, dtype: int64\n"
     ]
    }
   ],
   "source": [
    "product_sales = df_sales.groupby('product').agg({\n",
    "    'sales': ['sum', 'mean', 'count'],\n",
    "    'price': 'mean'\n",
    "}).round(2)\n",
    "\n",
    "print(\"제품별 판매 분석\")\n",
    "print(product_sales)\n",
    "\n",
    "df_sales['date'] = pd.to_datetime(df_sales['date'])\n",
    "df_sales['revenue'] = df_sales['sales'] * df_sales['price']\n",
    "df_sales['month'] = df_sales['date'].dt.month\n",
    "\n",
    "monthly_revenue = df_sales.groupby('month')['revenue'].sum()\n",
    "print(\"\\n월별 총 매출\")\n",
    "print(monthly_revenue)"
   ]
  },
  {
   "cell_type": "code",
   "execution_count": null,
   "id": "c1ef3f27-f18e-4663-afe8-d24fd0b4d8d8",
   "metadata": {},
   "outputs": [],
   "source": []
  }
 ],
 "metadata": {
  "kernelspec": {
   "display_name": "Python [conda env:base] *",
   "language": "python",
   "name": "conda-base-py"
  },
  "language_info": {
   "codemirror_mode": {
    "name": "ipython",
    "version": 3
   },
   "file_extension": ".py",
   "mimetype": "text/x-python",
   "name": "python",
   "nbconvert_exporter": "python",
   "pygments_lexer": "ipython3",
   "version": "3.13.5"
  }
 },
 "nbformat": 4,
 "nbformat_minor": 5
}
