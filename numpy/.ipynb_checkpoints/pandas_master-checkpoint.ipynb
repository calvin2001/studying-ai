{
 "cells": [
  {
   "cell_type": "code",
   "execution_count": 2,
   "id": "339d4efb-40a0-4967-862d-de9a751a2165",
   "metadata": {},
   "outputs": [
    {
     "name": "stdout",
     "output_type": "stream",
     "text": [
      "Pandas 버전: 2.2.3\n",
      "  name  age major  gpa\n",
      "0  김철수   22   ITM  3.8\n",
      "1  이영희   21    CS  3.9\n",
      "2  박민수   23   ITM  3.6\n",
      "3  최수진   22    AI  4.0\n"
     ]
    }
   ],
   "source": [
    "import pandas as pd\n",
    "import numpy as np\n",
    "\n",
    "print(f\"Pandas 버전: {pd.__version__}\")\n",
    "\n",
    "data = {\n",
    "    'name': ['김철수', '이영희', '박민수', '최수진'],\n",
    "    'age': [22, 21, 23, 22],\n",
    "    'major': ['ITM', 'CS', 'ITM', 'AI'],\n",
    "    'gpa': [3.8, 3.9, 3.6, 4.0]\n",
    "}\n",
    "\n",
    "df = pd.DataFrame(data)\n",
    "print(df)"
   ]
  },
  {
   "cell_type": "code",
   "execution_count": 10,
   "id": "76f88227-7ea8-4979-ba42-602e2c673c79",
   "metadata": {},
   "outputs": [
    {
     "name": "stdout",
     "output_type": "stream",
     "text": [
      "데이터 모양: (4, 4)\n",
      "컬럼명: ['name', 'age', 'major', 'gpa']\n",
      "데이터 타입:\n",
      "name      object\n",
      "age        int64\n",
      "major     object\n",
      "gpa      float64\n",
      "dtype: object\n",
      "             age       gpa\n",
      "count   4.000000  4.000000\n",
      "mean   22.000000  3.825000\n",
      "std     0.816497  0.170783\n",
      "min    21.000000  3.600000\n",
      "25%    21.750000  3.750000\n",
      "50%    22.000000  3.850000\n",
      "75%    22.250000  3.925000\n",
      "max    23.000000  4.000000\n",
      "0    김철수\n",
      "1    이영희\n",
      "2    박민수\n",
      "3    최수진\n",
      "Name: name, dtype: object\n",
      "  name  gpa\n",
      "0  김철수  3.8\n",
      "1  이영희  3.9\n",
      "2  박민수  3.6\n",
      "3  최수진  4.0\n",
      "gpa 3.8이상인 학생들:\n",
      "  name  age major  gpa\n",
      "0  김철수   22   ITM  3.8\n",
      "1  이영희   21    CS  3.9\n",
      "3  최수진   22    AI  4.0\n"
     ]
    }
   ],
   "source": [
    "print(f\"데이터 모양: {df.shape}\")\n",
    "print(f\"컬럼명: {list(df.columns)}\")\n",
    "print(f\"데이터 타입:\\n{df.dtypes}\")\n",
    "\n",
    "print(df.describe())\n",
    "\n",
    "print(df['name'])\n",
    "print(df[['name', 'gpa']])\n",
    "\n",
    "high_gpa = df[df['gpa'] >= 3.8]\n",
    "print(f\"gpa 3.8이상인 학생들:\")\n",
    "print(high_gpa)"
   ]
  },
  {
   "cell_type": "code",
   "execution_count": 13,
   "id": "341adb6b-f3af-4768-a8f9-c6711b15c1aa",
   "metadata": {},
   "outputs": [
    {
     "name": "stdout",
     "output_type": "stream",
     "text": [
      "업데이트된 DataFrame:\n",
      "  name  age major  gpa  scholarship grade\n",
      "0  김철수   22   ITM  3.8         True     A\n",
      "1  이영희   21    CS  3.9         True     A\n",
      "2  박민수   23   ITM  3.6        False     B\n",
      "3  최수진   22    AI  4.0         True     A\n",
      "4  정지훈   24   ITM  3.7        False     B\n",
      "5  정지훈   24   ITM  3.7        False     B\n"
     ]
    }
   ],
   "source": [
    "df['scholarship'] = df['gpa'] >= 3.8\n",
    "df['grade'] = df['gpa'].apply(lambda x: 'A' if x >= 3.8 else 'B' if x >= 3.5 else 'C')\n",
    "\n",
    "new_student = pd.DataFrame({\n",
    "    'name': ['정지훈'],\n",
    "    'age': [24],\n",
    "    'major': ['ITM'],\n",
    "    'gpa': [3.7],\n",
    "    'scholarship': [False],\n",
    "    'grade': ['B']\n",
    "})\n",
    "\n",
    "df = pd.concat([df, new_student], ignore_index=True)\n",
    "\n",
    "print(f\"업데이트된 DataFrame:\")\n",
    "print(df)"
   ]
  }
 ],
 "metadata": {
  "kernelspec": {
   "display_name": "Python [conda env:base] *",
   "language": "python",
   "name": "conda-base-py"
  },
  "language_info": {
   "codemirror_mode": {
    "name": "ipython",
    "version": 3
   },
   "file_extension": ".py",
   "mimetype": "text/x-python",
   "name": "python",
   "nbconvert_exporter": "python",
   "pygments_lexer": "ipython3",
   "version": "3.13.5"
  }
 },
 "nbformat": 4,
 "nbformat_minor": 5
}
