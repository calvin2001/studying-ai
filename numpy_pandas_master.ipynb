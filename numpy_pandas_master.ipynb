{
 "cells": [
  {
   "cell_type": "code",
   "execution_count": 1,
   "id": "2a36cc46-8e0c-446e-bf1f-4fcdc30ea87a",
   "metadata": {},
   "outputs": [
    {
     "name": "stdout",
     "output_type": "stream",
     "text": [
      "NumPy 버전: 2.1.3\n"
     ]
    }
   ],
   "source": [
    "import numpy as np\n",
    "print(f\"NumPy 버전: {np.__version__}\")"
   ]
  },
  {
   "cell_type": "code",
   "execution_count": 6,
   "id": "707b7a5e-8f61-48e7-af97-7dbfd5e562a1",
   "metadata": {},
   "outputs": [
    {
     "name": "stdout",
     "output_type": "stream",
     "text": [
      "1차원 배열: [1 2 3 4 5]\n",
      "2차원 배열:\n",
      "[[1 2 3]\n",
      " [4 5 6]]\n"
     ]
    }
   ],
   "source": [
    "arr1 = np.array([1,2,3,4,5])\n",
    "print(f\"1차원 배열: {arr1}\")\n",
    "arr2 = np.array([[1,2,3],[4,5,6]])\n",
    "print(f\"2차원 배열:\\n{arr2}\")"
   ]
  },
  {
   "cell_type": "code",
   "execution_count": 10,
   "id": "6c1809c3-3db8-4736-8965-8862fe2d0486",
   "metadata": {},
   "outputs": [
    {
     "name": "stdout",
     "output_type": "stream",
     "text": [
      "영행렬:\n",
      "[[0. 0. 0. 0.]\n",
      " [0. 0. 0. 0.]\n",
      " [0. 0. 0. 0.]]\n",
      "일행렬:\n",
      "[[1. 1. 1.]\n",
      " [1. 1. 1.]]\n",
      "범위 배열: [0 2 4 6 8]\n",
      "선형 구간: [0.   0.25 0.5  0.75 1.  ]\n"
     ]
    }
   ],
   "source": [
    "zeros = np.zeros((3,4))\n",
    "ones = np.ones((2,3))\n",
    "range_arr = np.arange(0, 10, 2)\n",
    "linspace = np.linspace(0, 1, 5)\n",
    "print(f\"영행렬:\\n{zeros}\")\n",
    "print(f\"일행렬:\\n{ones}\")\n",
    "print(f\"범위 배열: {range_arr}\")\n",
    "print(f\"선형 구간: {linspace}\")"
   ]
  },
  {
   "cell_type": "code",
   "execution_count": 11,
   "id": "eb952859-0669-43a9-815f-d91d18ba9cb6",
   "metadata": {},
   "outputs": [
    {
     "name": "stdout",
     "output_type": "stream",
     "text": [
      "배열 모양: (3, 3)\n",
      "배열 크기: 9\n",
      "차원 수: 2\n",
      "데이터 타입: int64\n"
     ]
    }
   ],
   "source": [
    "arr = np.array([[1,2,3],[4,5,6],[7,8,9]])\n",
    "print(f\"배열 모양: {arr.shape}\")\n",
    "print(f\"배열 크기: {arr.size}\")\n",
    "print(f\"차원 수: {arr.ndim}\")\n",
    "print(f\"데이터 타입: {arr.dtype}\")"
   ]
  },
  {
   "cell_type": "code",
   "execution_count": 12,
   "id": "244888ca-3a64-454f-9c09-f5a8ef61127b",
   "metadata": {},
   "outputs": [
    {
     "name": "stdout",
     "output_type": "stream",
     "text": [
      "재구성된 배열: [[1 2 3 4 5 6 7 8 9]]\n",
      "평면화된 배열: [1 2 3 4 5 6 7 8 9]\n"
     ]
    }
   ],
   "source": [
    "reshaped = arr.reshape(1,9)\n",
    "flattened = arr.flatten()\n",
    "print(f\"재구성된 배열: {reshaped}\")\n",
    "print(f\"평면화된 배열: {flattened}\")"
   ]
  },
  {
   "cell_type": "code",
   "execution_count": 14,
   "id": "8972cc89-a536-43fd-83bd-0c832faa961c",
   "metadata": {},
   "outputs": [
    {
     "name": "stdout",
     "output_type": "stream",
     "text": [
      "덧셈: [11 22 33 44]\n",
      "곱셈: [ 10  40  90 160]\n",
      "거듭제곱: [ 1  4  9 16]\n"
     ]
    }
   ],
   "source": [
    "arr1 = np.array([1,2,3,4])\n",
    "arr2 = np.array([10,20,30,40])\n",
    "print(f\"덧셈: {arr1 + arr2}\")\n",
    "print(f\"곱셈: {arr1 * arr2}\")\n",
    "print(f\"거듭제곱: {arr1 ** 2}\")"
   ]
  },
  {
   "cell_type": "code",
   "execution_count": 18,
   "id": "94bfb484-f63f-4a98-9d62-3c86efe3fd3c",
   "metadata": {},
   "outputs": [
    {
     "name": "stdout",
     "output_type": "stream",
     "text": [
      "평균: 84.00\n",
      "표준편차: 8.32\n",
      "최대값: 98\n",
      "최소값: 75\n"
     ]
    }
   ],
   "source": [
    "data = np.array([82,75,98,88,77])\n",
    "print(f\"평균: {np.mean(data):.2f}\")\n",
    "print(f\"표준편차: {np.std(data):.2f}\")\n",
    "print(f\"최대값: {np.max(data)}\")\n",
    "print(f\"최소값: {np.min(data)}\")"
   ]
  },
  {
   "cell_type": "code",
   "execution_count": 22,
   "id": "62389b5c-c620-47bb-921c-a1f7011f63d0",
   "metadata": {},
   "outputs": [
    {
     "name": "stdout",
     "output_type": "stream",
     "text": [
      "첫 번째 행: [1 2 3]\n",
      "특정 원소: 6\n",
      "첫 두 행:\n",
      "[[1 2 3]\n",
      " [4 5 6]]\n",
      "마지막 열:\n",
      "[3 6 9]\n"
     ]
    }
   ],
   "source": [
    "arr = np.array([[1,2,3],[4,5,6],[7,8,9]])\n",
    "print(f\"첫 번째 행: {arr[0]}\")\n",
    "print(f\"특정 원소: {arr[1,2]}\")\n",
    "print(f\"첫 두 행:\\n{arr[:2]}\")\n",
    "print(f\"마지막 열:\\n{arr[:,-1]}\")"
   ]
  },
  {
   "cell_type": "code",
   "execution_count": 25,
   "id": "91afe2f7-5f64-4294-af6a-2873e47d424c",
   "metadata": {},
   "outputs": [
    {
     "name": "stdout",
     "output_type": "stream",
     "text": [
      "6보다 큰 원소들: [[False False False]\n",
      " [False False False]\n",
      " [ True  True  True]]\n"
     ]
    }
   ],
   "source": [
    "mask = arr > 6\n",
    "print(f\"6보다 큰 원소들: {arr}\")"
   ]
  },
  {
   "cell_type": "code",
   "execution_count": null,
   "id": "7bbfa46d-cba6-48bf-9053-ee32d5a2f0bd",
   "metadata": {},
   "outputs": [],
   "source": []
  }
 ],
 "metadata": {
  "kernelspec": {
   "display_name": "Python [conda env:base] *",
   "language": "python",
   "name": "conda-base-py"
  },
  "language_info": {
   "codemirror_mode": {
    "name": "ipython",
    "version": 3
   },
   "file_extension": ".py",
   "mimetype": "text/x-python",
   "name": "python",
   "nbconvert_exporter": "python",
   "pygments_lexer": "ipython3",
   "version": "3.13.5"
  }
 },
 "nbformat": 4,
 "nbformat_minor": 5
}
